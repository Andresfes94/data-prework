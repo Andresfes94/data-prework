{
 "cells": [
  {
   "cell_type": "markdown",
   "metadata": {},
   "source": [
    "<img src=\"https://bit.ly/2VnXWr2\" width=\"100\" align=\"left\">"
   ]
  },
  {
   "cell_type": "markdown",
   "metadata": {},
   "source": [
    "# The Snail and the Well\n",
    "\n",
    "A snail falls at the bottom of a 125 cm well. Each day the snail rises 30 cm. But at night, while sleeping, slides 20 cm because the walls are wet. How many days does it take for the snail to escape the well?\n",
    "\n",
    "**Hint**: The snail gets out of the well when it surpasses the 125cm of height.\n",
    "\n",
    "## Tools\n",
    "\n",
    "1. Loop: **while**\n",
    "2. Conditional statements: **if-else**\n",
    "3. Function: **print()**\n",
    "\n",
    "## Tasks\n",
    "\n",
    "#### 1. Assign the challenge data to variables with representative names: `well_height`, `daily_distance`, `nightly_distance` and `snail_position`."
   ]
  },
  {
   "cell_type": "code",
   "execution_count": 1,
   "metadata": {
    "scrolled": true
   },
   "outputs": [],
   "source": [
    "well_height = 125\n",
    "daily_distance = 30\n",
    "nightly_distance = 20\n",
    "snail_position = 0"
   ]
  },
  {
   "cell_type": "markdown",
   "metadata": {},
   "source": [
    "#### 2. Create a variable `days` to keep count of the days that pass until the snail escapes the well. "
   ]
  },
  {
   "cell_type": "code",
   "execution_count": 2,
   "metadata": {
    "scrolled": true
   },
   "outputs": [],
   "source": [
    "days = 0"
   ]
  },
  {
   "cell_type": "markdown",
   "metadata": {},
   "source": [
    "#### 3. Find the solution to the challenge using the variables defined above. "
   ]
  },
  {
   "cell_type": "code",
   "execution_count": 3,
   "metadata": {},
   "outputs": [
    {
     "name": "stdout",
     "output_type": "stream",
     "text": [
      "After day: 0 the snail's position is: 0\n",
      "After day: 1 the snail's position is: 10\n",
      "After day: 2 the snail's position is: 20\n",
      "After day: 3 the snail's position is: 30\n",
      "After day: 4 the snail's position is: 40\n",
      "After day: 5 the snail's position is: 50\n",
      "After day: 6 the snail's position is: 60\n",
      "After day: 7 the snail's position is: 70\n",
      "After day: 8 the snail's position is: 80\n",
      "After day: 9 the snail's position is: 90\n",
      "After day: 10 the snail's position is: 100\n",
      "The snail gets OUT of the well on day 11\n"
     ]
    }
   ],
   "source": [
    "while snail_position < well_height:\n",
    "    print (\"After day: {} the snail's position is: {}\".format(days, snail_position))\n",
    "    snail_position += daily_distance\n",
    "    \n",
    "    if snail_position > well_height:\n",
    "        snail_position += daily_distance \n",
    "        \n",
    "    else: snail_position -= nightly_distance\n",
    "            \n",
    "    days += 1\n",
    "       \n",
    "print(\"The snail gets OUT of the well on day {}\".format(days))   "
   ]
  },
  {
   "cell_type": "markdown",
   "metadata": {},
   "source": [
    "#### 4. Print the solution."
   ]
  },
  {
   "cell_type": "code",
   "execution_count": 4,
   "metadata": {
    "scrolled": true
   },
   "outputs": [
    {
     "name": "stdout",
     "output_type": "stream",
     "text": [
      "11\n"
     ]
    }
   ],
   "source": [
    "print(days)"
   ]
  },
  {
   "cell_type": "markdown",
   "metadata": {},
   "source": [
    "## Bonus\n",
    "The distance traveled by the snail each day is now defined by a list.\n",
    "```\n",
    "advance_cm = [30, 21, 33, 77, 44, 45, 23, 45, 12, 34, 55]\n",
    "```\n",
    "On the first day, the snail rises 30cm but during the night it slides 20cm. On the second day, the snail rises 21cm but during the night it slides 20cm, and so on. \n",
    "\n",
    "#### 1. How many days does it take for the snail to escape the well?\n",
    "Follow the same guidelines as in the previous challenge.\n",
    "\n",
    "**Hint**: Remember that the snail gets out of the well when it surpasses the 125cm of height."
   ]
  },
  {
   "cell_type": "code",
   "execution_count": 9,
   "metadata": {
    "scrolled": true
   },
   "outputs": [
    {
     "ename": "SyntaxError",
     "evalue": "invalid syntax (<ipython-input-9-12bbc307cf73>, line 17)",
     "output_type": "error",
     "traceback": [
      "\u001b[0;36m  File \u001b[0;32m\"<ipython-input-9-12bbc307cf73>\"\u001b[0;36m, line \u001b[0;32m17\u001b[0m\n\u001b[0;31m    elif snail_position >= well_height:\u001b[0m\n\u001b[0m       ^\u001b[0m\n\u001b[0;31mSyntaxError\u001b[0m\u001b[0;31m:\u001b[0m invalid syntax\n"
     ]
    }
   ],
   "source": [
    "advanced_cm = [30, 21, 33, 77, 44, 45, 23, 45, 12, 34, 55]\n",
    "well_height = 125\n",
    "nightly_distance = 20\n",
    "snail_position = 0\n",
    "days = 0\n",
    "\n",
    "#iterate through list\n",
    "while snail_position < well_height:\n",
    "    for daily_distance in advanced_cm:\n",
    "        if snail_position < well_height:\n",
    "            snail_position += daily_distance\n",
    "            if snail_position < well_height:\n",
    "                snail_position -= nightly_distance\n",
    "            days += 1\n",
    "            print(f\"After day: {days} the snail's position is: {snail_position}\"\n",
    "            \n",
    "        elif snail_position >= well_height:\n",
    "                  snail_position += daily_distance\n",
    "            \n",
    "            print(\"Snail is out of the well\")\n",
    "            break\n",
    "            \n",
    "            \n",
    "print(\"The snail gets OUT of the well on day {}\".format(days))             \n",
    "print(f\"The snail gets OUT of the well on day {days}\")         \n",
    "       \n",
    "  "
   ]
  },
  {
   "cell_type": "markdown",
   "metadata": {},
   "source": [
    "#### 2. What is its maximum displacement in one day? And its minimum? Calculate the displacement using only the travel distance of the days used to get out of the well. \n",
    "**Hint**: Remember that displacement means the total distance risen taking into account that the snail slides at night.  "
   ]
  },
  {
   "cell_type": "code",
   "execution_count": null,
   "metadata": {
    "scrolled": true
   },
   "outputs": [],
   "source": [
    "\n",
    "print (\"Max displacement : \", max(advanced_cm[:6]))\n",
    "print (\"Min displacement : \", min(advanced_cm[:6]))"
   ]
  },
  {
   "cell_type": "markdown",
   "metadata": {},
   "source": [
    "#### 3. What is its average progress? Take into account the snail slides at night."
   ]
  },
  {
   "cell_type": "code",
   "execution_count": null,
   "metadata": {
    "scrolled": true
   },
   "outputs": [],
   "source": [
    "total = sum(advanced_cm[:6])\n",
    "days_to_escape = len(advanced_cm[:6])\n",
    "avg =  total / days_to_escape\n",
    "print(avg, \" days progress on average.\")"
   ]
  },
  {
   "cell_type": "markdown",
   "metadata": {},
   "source": [
    "#### 4. What is the standard deviation of its displacement? Take into account the snail slides at night."
   ]
  },
  {
   "cell_type": "code",
   "execution_count": null,
   "metadata": {
    "scrolled": true
   },
   "outputs": [],
   "source": [
    "import numpy as np\n",
    "\n",
    "print(np.std(advanced_cm[:6]))"
   ]
  },
  {
   "cell_type": "code",
   "execution_count": null,
   "metadata": {
    "collapsed": true
   },
   "outputs": [],
   "source": []
  }
 ],
 "metadata": {
  "kernelspec": {
   "display_name": "Python 3",
   "language": "python",
   "name": "python3"
  },
  "language_info": {
   "codemirror_mode": {
    "name": "ipython",
    "version": 3
   },
   "file_extension": ".py",
   "mimetype": "text/x-python",
   "name": "python",
   "nbconvert_exporter": "python",
   "pygments_lexer": "ipython3",
   "version": "3.6.1"
  }
 },
 "nbformat": 4,
 "nbformat_minor": 2
}
