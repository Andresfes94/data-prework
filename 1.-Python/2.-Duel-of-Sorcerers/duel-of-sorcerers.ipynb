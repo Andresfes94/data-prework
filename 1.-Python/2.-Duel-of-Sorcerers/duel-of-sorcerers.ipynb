{
 "cells": [
  {
   "cell_type": "markdown",
   "metadata": {},
   "source": [
    "<img src=\"https://bit.ly/2VnXWr2\" width=\"100\" align=\"left\">"
   ]
  },
  {
   "cell_type": "markdown",
   "metadata": {},
   "source": [
    "# Duel of Sorcerers\n",
    "You are witnessing an epic battle between two powerful sorcerers: Gandalf and Saruman. Each sorcerer has 10 spells of variable power in their mind and they are going to throw them one after the other. The winner of the duel will be the one who wins more of those clashes between spells. Spells are represented as a list of 10 integers whose value equals the power of the spell.\n",
    "```\n",
    "gandalf = [10, 11, 13, 30, 22, 11, 10, 33, 22, 22]\n",
    "saruman = [23, 66, 12, 43, 12, 10, 44, 23, 12, 17]\n",
    "```\n",
    "For example:\n",
    "- The first clash is won by Saruman: 10 against 23.\n",
    "- The second clash is won by Saruman: 11 against 66.\n",
    "- ...\n",
    "\n",
    "You will create two variables, one for each sorcerer, where the sum of clashes won will be stored. Depending on which variable is greater at the end of the duel, you will show one of the following three results on the screen:\n",
    "* Gandalf wins\n",
    "* Saruman wins\n",
    "* Tie\n",
    "\n",
    "<img src=\"images/content_lightning_bolt_big.jpg\" width=\"400\">"
   ]
  },
  {
   "cell_type": "markdown",
   "metadata": {},
   "source": [
    "## Tools\n",
    "You don't necessarily need to use all the tools. Maybe you opt to use some of them or completely different ones, they are given to help you shape the exercise. Programming exercises can be solved in many different ways.\n",
    "\n",
    "1. Data structures: **lists, dictionaries**\n",
    "2. Loop: **for loop**\n",
    "3. Conditional statements: **if-elif-else**\n",
    "4. Functions: **range(), len(), print()**\n",
    "\n",
    "## Tasks\n",
    "\n",
    "#### 1. Create two variables called `gandalf` and `saruman` and assign them the spell power lists. Create a variable called `spells` to store the number of spells that the sorcerers cast. "
   ]
  },
  {
   "cell_type": "code",
   "execution_count": 1,
   "metadata": {
    "collapsed": true
   },
   "outputs": [],
   "source": [
    "gandalf = [10, 11, 13, 30, 22, 11, 10, 33, 22, 22]\n",
    "saruman = [23, 66, 12, 43, 12, 10, 44, 23, 12, 17]\n",
    "spells = 0"
   ]
  },
  {
   "cell_type": "markdown",
   "metadata": {},
   "source": [
    "#### 2. Create two variables called `gandalf_wins` and `saruman_wins`. Set both of them to 0. \n",
    "You will use these variables to count the number of clashes each sorcerer wins. "
   ]
  },
  {
   "cell_type": "code",
   "execution_count": 2,
   "metadata": {
    "collapsed": true
   },
   "outputs": [],
   "source": [
    "gandalf_wins = 0\n",
    "saruman_wins = 0"
   ]
  },
  {
   "cell_type": "markdown",
   "metadata": {},
   "source": [
    "#### 3. Using the lists of spells of both sorcerers, update variables `gandalf_wins` and `saruman_wins` to count the number of times each sorcerer wins a clash. "
   ]
  },
  {
   "cell_type": "code",
   "execution_count": 3,
   "metadata": {},
   "outputs": [],
   "source": [
    "for clash in zip(gandalf, saruman):\n",
    "    gandalf_spell_power = clash[0]\n",
    "    saruman_spell_power = clash[1]\n",
    "\n",
    "    if gandalf_spell_power > saruman_spell_power:\n",
    "        gandalf_wins += 1\n",
    "        \n",
    "    elif saruman_spell_power > gandalf_spell_power:\n",
    "        saruman_wins += 1\n",
    "            "
   ]
  },
  {
   "cell_type": "markdown",
   "metadata": {},
   "source": [
    "#### 4. Who won the battle?\n",
    "Print `Gandalf wins`, `Saruman wins` or `Tie` depending on the result. "
   ]
  },
  {
   "cell_type": "code",
   "execution_count": 4,
   "metadata": {},
   "outputs": [
    {
     "name": "stdout",
     "output_type": "stream",
     "text": [
      "Number of gandalf wins: 6\n",
      "Number of saruman wins: 4\n",
      "Gandalf wins\n"
     ]
    }
   ],
   "source": [
    "print(\"Number of gandalf wins:\", gandalf_wins)\n",
    "print(\"Number of saruman wins:\", saruman_wins)\n",
    "\n",
    "if gandalf_wins == saruman_wins:\n",
    "    print(\"The clash is a tie\")\n",
    "        \n",
    "elif gandalf_wins > saruman_wins:\n",
    "    print(\"Gandalf wins\")\n",
    "    \n",
    "else:\n",
    "    print(\"Saruman wins\") \n"
   ]
  },
  {
   "cell_type": "markdown",
   "metadata": {},
   "source": [
    "## Bonus\n",
    "\n",
    "In this bonus challenge, you'll need to check the winner of the battle but this time, a sorcerer wins if he succeeds in winning 3 spell clashes in a row.\n",
    "\n",
    "Also, the spells now have a name and there is a dictionary that associates that name to a power.\n",
    "\n",
    "```\n",
    "POWER = {\n",
    "    'Fireball': 50, \n",
    "    'Lightning bolt': 40, \n",
    "    'Magic arrow': 10, \n",
    "    'Black Tentacles': 25, \n",
    "    'Contagion': 45\n",
    "}\n",
    "\n",
    "gandalf = ['Fireball', 'Lightning bolt', 'Lightning bolt', 'Magic arrow', 'Fireball', \n",
    "           'Magic arrow', 'Lightning bolt', 'Fireball', 'Fireball', 'Fireball']\n",
    "saruman = ['Contagion', 'Contagion', 'Black Tentacles', 'Fireball', 'Black Tentacles', \n",
    "           'Lightning bolt', 'Magic arrow', 'Contagion', 'Magic arrow', 'Magic arrow']\n",
    "```\n",
    "\n",
    "#### 1. Create variables `POWER`, `gandalf` and `saruman` as seen above. Create a variable called `spells` to store the number of spells that the sorcerers cast. "
   ]
  },
  {
   "cell_type": "code",
   "execution_count": 5,
   "metadata": {
    "collapsed": true
   },
   "outputs": [],
   "source": [
    "power = {\n",
    "    'Fireball': 50, \n",
    "    'Lightning bolt': 40, \n",
    "    'Magic arrow': 10, \n",
    "    'Black Tentacles': 25, \n",
    "    'Contagion': 45\n",
    "}\n",
    "\n",
    "gandalf = ['Fireball', 'Lightning bolt', 'Lightning bolt', 'Magic arrow', 'Fireball', \n",
    "           'Magic arrow', 'Lightning bolt', 'Fireball', 'Fireball', 'Fireball']\n",
    "\n",
    "saruman = ['Contagion', 'Contagion', 'Black Tentacles', 'Fireball', 'Black Tentacles', \n",
    "           'Lightning bolt', 'Magic arrow', 'Contagion', 'Magic arrow', 'Magic arrow']\n"
   ]
  },
  {
   "cell_type": "markdown",
   "metadata": {},
   "source": [
    "#### 2. Create two variables called `gandalf_wins` and `saruman_wins`. Set both of them to 0. "
   ]
  },
  {
   "cell_type": "code",
   "execution_count": 6,
   "metadata": {
    "collapsed": true
   },
   "outputs": [],
   "source": [
    "gandalf_wins = 0\n",
    "saruman_wins = 0"
   ]
  },
  {
   "cell_type": "markdown",
   "metadata": {},
   "source": [
    "#### 3. Create two variables called `gandalf_power` and `saruman_power` to store the list of spell powers of each sorcerer."
   ]
  },
  {
   "cell_type": "code",
   "execution_count": 7,
   "metadata": {},
   "outputs": [
    {
     "name": "stdout",
     "output_type": "stream",
     "text": [
      "[50, 40, 40, 10, 50, 10, 40, 50, 50, 50]\n",
      "[45, 45, 25, 50, 25, 40, 10, 45, 10, 10]\n"
     ]
    }
   ],
   "source": [
    "gandalf_power = []\n",
    "for spell in gandalf:\n",
    "    gandalf_power.append(power[spell])\n",
    "print(gandalf_power)   \n",
    "\n",
    "saruman_power = []\n",
    "for spell in saruman:\n",
    "    saruman_power.append(power[spell])\n",
    "print(saruman_power)\n",
    "    "
   ]
  },
  {
   "cell_type": "markdown",
   "metadata": {},
   "source": [
    "#### 4. The battle starts! Using the variables you've created above, code the execution of spell clashes. Remember that a sorcerer wins if he succeeds in winning 3 spell clashes in a row. \n",
    "If a clash ends up in a tie, the counter of wins in a row is not restarted to 0. Remember to print who is the winner of the battle. "
   ]
  },
  {
   "cell_type": "code",
   "execution_count": 8,
   "metadata": {},
   "outputs": [
    {
     "name": "stdout",
     "output_type": "stream",
     "text": [
      "> Round 0! Gandalf: 50, Saruman: 45\n",
      "Gandalf wins round. 1 round(s) in a row.\n",
      "> Round 1! Gandalf: 40, Saruman: 45\n",
      "Saruman wins round. 1 round(s) in a row.\n",
      "> Round 2! Gandalf: 40, Saruman: 25\n",
      "Gandalf wins round. 1 round(s) in a row.\n",
      "> Round 3! Gandalf: 10, Saruman: 50\n",
      "Saruman wins round. 1 round(s) in a row.\n",
      "> Round 4! Gandalf: 50, Saruman: 25\n",
      "Gandalf wins round. 1 round(s) in a row.\n",
      "> Round 5! Gandalf: 10, Saruman: 40\n",
      "Saruman wins round. 1 round(s) in a row.\n",
      "> Round 6! Gandalf: 40, Saruman: 10\n",
      "Gandalf wins round. 1 round(s) in a row.\n",
      "> Round 7! Gandalf: 50, Saruman: 45\n",
      "Gandalf wins round. 2 round(s) in a row.\n",
      "> Round 8! Gandalf: 50, Saruman: 10\n",
      "Gandalf wins round. 3 round(s) in a row.\n",
      "GANDALF WINS BATTLE!\n"
     ]
    }
   ],
   "source": [
    "last_winner = None\n",
    "\n",
    "for battle_round in range(len(saruman_power)):\n",
    "    \n",
    "    g_spell_power = gandalf_power[battle_round]\n",
    "    s_spell_power = saruman_power[battle_round]\n",
    "    print(f\"> Round {battle_round}! Gandalf: {g_spell_power}, Saruman: {s_spell_power}\")\n",
    "    \n",
    "    if g_spell_power == s_spell_power:\n",
    "        print(\"It's a tie!\")\n",
    "    if g_spell_power > s_spell_power:\n",
    "        \n",
    "        if last_winner != 'Gandalf':\n",
    "            last_winner = 'Gandalf'\n",
    "            gandalf_wins = 1\n",
    "        else:            \n",
    "            gandalf_wins = gandalf_wins + 1\n",
    "        print(f\"Gandalf wins round. {gandalf_wins} round(s) in a row.\")\n",
    "        \n",
    "    if g_spell_power < s_spell_power:\n",
    "        if last_winner != 'Saruman':\n",
    "            last_winner = 'Saruman'\n",
    "            saruman_wins = 1\n",
    "        else:\n",
    "            saruman_wins = saruman_wins + 1\n",
    "        print(f\"Saruman wins round. {saruman_wins} round(s) in a row.\")\n",
    "    \n",
    "    if gandalf_wins == 3:\n",
    "        print(\"GANDALF WINS BATTLE!\")\n",
    "        \n",
    "        break\n",
    "    if saruman_wins == 3:\n",
    "        print(\"SARUMAN WINS THE BATTLE!\")\n",
    "        break"
   ]
  },
  {
   "cell_type": "markdown",
   "metadata": {},
   "source": [
    "#### 5. Find the average spell power of Gandalf and Saruman. "
   ]
  },
  {
   "cell_type": "code",
   "execution_count": 9,
   "metadata": {},
   "outputs": [
    {
     "name": "stdout",
     "output_type": "stream",
     "text": [
      "39.0\n",
      "30.5\n"
     ]
    }
   ],
   "source": [
    "gandalf_list = []\n",
    "saruman_list = []\n",
    "\n",
    "SD_gandalf = 0\n",
    "SD_saruman = 0\n",
    "\n",
    "for spell in gandalf:\n",
    "    name_spell = spell\n",
    "    gandalf_list.append(power[name_spell])\n",
    "    \n",
    "for spell in saruman:\n",
    "    name_spell = spell\n",
    "    saruman_list.append(power[name_spell])\n",
    "\n",
    "average_gandalf = sum(gandalf_list)/len(gandalf)\n",
    "average_saruman = sum(saruman_list)/len(saruman)\n",
    "\n",
    "print(average_gandalf)\n",
    "print(average_saruman)"
   ]
  },
  {
   "cell_type": "markdown",
   "metadata": {},
   "source": [
    "#### 6. Find the standard deviation of the spell power of Gandalf and Saruman. "
   ]
  },
  {
   "cell_type": "code",
   "execution_count": 11,
   "metadata": {},
   "outputs": [
    {
     "name": "stdout",
     "output_type": "stream",
     "text": [
      "The standard deviation of Gandalf is: 363.91757308489514\n",
      "The standard deviation of Saruman is: 260.4881235296535\n"
     ]
    }
   ],
   "source": [
    "import math\n",
    "\n",
    "for spells in range(len(gandalf)):\n",
    "\n",
    "    gandalf_list[spells] = math.pow(gandalf_list[spells] - average_gandalf, 2)\n",
    "\n",
    "SD_gandalf = math.sqrt(sum(gandalf_list)/len(gandalf))\n",
    "\n",
    "for spells in range(len(saruman)):\n",
    "\n",
    "    saruman_list[spells] = math.pow(saruman_list[spells] - average_saruman, 2)\n",
    "\n",
    "SD_saruman = math.sqrt(sum(saruman_list) / len(saruman))\n",
    "\n",
    "print(f\"The standard deviation of Gandalf is: {SD_gandalf}\")\n",
    "print(f\"The standard deviation of Saruman is: {SD_saruman}\")"
   ]
  },
  {
   "cell_type": "code",
   "execution_count": null,
   "metadata": {
    "collapsed": true
   },
   "outputs": [],
   "source": []
  },
  {
   "cell_type": "code",
   "execution_count": null,
   "metadata": {
    "collapsed": true
   },
   "outputs": [],
   "source": []
  }
 ],
 "metadata": {
  "kernelspec": {
   "display_name": "Python 3",
   "language": "python",
   "name": "python3"
  },
  "language_info": {
   "codemirror_mode": {
    "name": "ipython",
    "version": 3
   },
   "file_extension": ".py",
   "mimetype": "text/x-python",
   "name": "python",
   "nbconvert_exporter": "python",
   "pygments_lexer": "ipython3",
   "version": "3.6.1"
  }
 },
 "nbformat": 4,
 "nbformat_minor": 2
}
